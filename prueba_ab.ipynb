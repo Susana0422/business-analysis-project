    "# Test A/B\n",
    "**Nombre de la prueba:** recommender_system_test\n",
    "\n",
    "**Propósito de la prueba:** probar cambios relacionados con la introducción de un sistema de recomendaciones mejorado.\n",
    "\n",
    "Grupo A: grupo de control.\n",
    "\n",
    "Grupo B: grupo con el nuevo embudo de pago"
   ]
  },
  {
   "cell_type": "code",
   "execution_count": 79,
   "metadata": {
    "trusted": true
   },
   "outputs": [],
   "source": [
    "import pandas as pd\n",
    "import numpy as np\n",
    "import matplotlib.pyplot as plt\n",
    "import scipy.stats as stats\n",
    "from statsmodels.stats.proportion import proportions_ztest"
   ]
  },
  {
   "cell_type": "code",
   "execution_count": 80,
   "metadata": {
    "trusted": true
   },
   "outputs": [],
   "source": [
    "# Definir la ruta base de los archivos\n",
    "ab_project = pd.read_csv(\"/datasets/ab_project_marketing_events_us.csv\")\n",
    "final_ab_new_users = pd.read_csv(\"/datasets/final_ab_new_users_upd_us.csv\")\n",
    "final_ab_events = pd.read_csv(\"/datasets/final_ab_events_upd_us.csv\")\n",
    "final_ab_participants = pd.read_csv(\"/datasets/final_ab_participants_upd_us.csv\")\n"
   ]
  },
  {
   "cell_type": "markdown",
   "metadata": {},
   "source": [
    "**Visualizar el DF ab_project**"
   ]
  },
  {
   "cell_type": "code",
   "execution_count": 81,
   "metadata": {
    "trusted": true
   },
   "outputs": [
    {
     "data": {
      "text/html": [
       "<div>\n",
       "<style scoped>\n",
       "    .dataframe tbody tr th:only-of-type {\n",
       "        vertical-align: middle;\n",
       "    }\n",
       "\n",
       "    .dataframe tbody tr th {\n",
       "        vertical-align: top;\n",
       "    }\n",
       "\n",
       "    .dataframe thead th {\n",
       "        text-align: right;\n",
       "    }\n",
       "</style>\n",
       "<table border=\"1\" class=\"dataframe\">\n",
       "  <thead>\n",
       "    <tr style=\"text-align: right;\">\n",
       "      <th></th>\n",
       "      <th>name</th>\n",
       "      <th>regions</th>\n",
       "      <th>start_dt</th>\n",
       "      <th>finish_dt</th>\n",
       "    </tr>\n",
       "  </thead>\n",
       "  <tbody>\n",
       "    <tr>\n",
       "      <th>0</th>\n",
       "      <td>Christmas&amp;New Year Promo</td>\n",
       "      <td>EU, N.America</td>\n",
       "      <td>2020-12-25</td>\n",
       "      <td>2021-01-03</td>\n",
       "    </tr>\n",
       "    <tr>\n",
       "      <th>1</th>\n",
       "      <td>St. Valentine's Day Giveaway</td>\n",
       "      <td>EU, CIS, APAC, N.America</td>\n",
       "      <td>2020-02-14</td>\n",
       "      <td>2020-02-16</td>\n",
       "    </tr>\n",
       "    <tr>\n",
       "      <th>2</th>\n",
       "      <td>St. Patric's Day Promo</td>\n",
       "      <td>EU, N.America</td>\n",
       "      <td>2020-03-17</td>\n",
       "      <td>2020-03-19</td>\n",
       "    </tr>\n",
       "    <tr>\n",
       "      <th>3</th>\n",
       "      <td>Easter Promo</td>\n",
       "      <td>EU, CIS, APAC, N.America</td>\n",
       "      <td>2020-04-12</td>\n",
       "      <td>2020-04-19</td>\n",
       "    </tr>\n",
       "    <tr>\n",
       "      <th>4</th>\n",
       "      <td>4th of July Promo</td>\n",
       "      <td>N.America</td>\n",
       "      <td>2020-07-04</td>\n",
       "      <td>2020-07-11</td>\n",
       "    </tr>\n",
       "  </tbody>\n",
       "</table>\n",
       "</div>"
      ],
      "text/plain": [
       "                           name                   regions    start_dt  \\\n",
       "0      Christmas&New Year Promo             EU, N.America  2020-12-25   \n",
       "1  St. Valentine's Day Giveaway  EU, CIS, APAC, N.America  2020-02-14   \n",
       "2        St. Patric's Day Promo             EU, N.America  2020-03-17   \n",
       "3                  Easter Promo  EU, CIS, APAC, N.America  2020-04-12   \n",
       "4             4th of July Promo                 N.America  2020-07-04   \n",
       "\n",
       "    finish_dt  \n",
       "0  2021-01-03  \n",
       "1  2020-02-16  \n",
       "2  2020-03-19  \n",
       "3  2020-04-19  \n",
       "4  2020-07-11  "
      ]
     },
     "execution_count": 81,
     "metadata": {},
     "output_type": "execute_result"
    }
   ],
   "source": [
    "ab_project.head()"
   ]
  },
  {
   "cell_type": "code",
   "execution_count": 82,
   "metadata": {
    "trusted": true
   },
   "outputs": [
    {
     "name": "stdout",
     "output_type": "stream",
     "text": [
      "<class 'pandas.core.frame.DataFrame'>\n",
      "RangeIndex: 14 entries, 0 to 13\n",
      "Data columns (total 4 columns):\n",
      " #   Column     Non-Null Count  Dtype \n",
      "---  ------     --------------  ----- \n",
      " 0   name       14 non-null     object\n",
      " 1   regions    14 non-null     object\n",
      " 2   start_dt   14 non-null     object\n",
      " 3   finish_dt  14 non-null     object\n",
      "dtypes: object(4)\n",
      "memory usage: 576.0+ bytes\n"
     ]
    }
   ],
   "source": [
    "ab_project.info()"
   ]
  },
  {
   "cell_type": "code",
   "execution_count": 83,
   "metadata": {
    "trusted": true
   },
   "outputs": [],
   "source": [
    "# Modificar las columnas start_dt y finish_dt a formato datetime\n",
    "ab_project['start_dt'] = pd.to_datetime(ab_project['start_dt'], format='%Y-%m-%d')\n",
    "ab_project['finish_dt'] = pd.to_datetime(ab_project['finish_dt'], format='%Y-%m-%d')"
   ]
  },
  {
   "cell_type": "code",
   "execution_count": 84,
   "metadata": {
    "trusted": true
   },
   "outputs": [
    {
     "data": {
      "text/plain": [
       "0"
      ]
     },
     "execution_count": 84,
     "metadata": {},
     "output_type": "execute_result"
    }
   ],
   "source": [
    "# Revisar valores duplicados\n",
    "ab_project.duplicated().sum()"
   ]
  },
  {
   "cell_type": "markdown",
   "metadata": {},
   "source": [
    "**Visualizar el DF final_ab_new_users**"
   ]
  },
  {
   "cell_type": "code",
   "execution_count": 85,
   "metadata": {
    "trusted": true
   },
   "outputs": [
    {
     "data": {
      "text/html": [
       "<div>\n",
       "<style scoped>\n",
       "    .dataframe tbody tr th:only-of-type {\n",
       "        vertical-align: middle;\n",
       "    }\n",
       "\n",
       "    .dataframe tbody tr th {\n",
       "        vertical-align: top;\n",
       "    }\n",
       "\n",
       "    .dataframe thead th {\n",
       "        text-align: right;\n",
       "    }\n",
       "</style>\n",
       "<table border=\"1\" class=\"dataframe\">\n",
       "  <thead>\n",
       "    <tr style=\"text-align: right;\">\n",
       "      <th></th>\n",
       "      <th>user_id</th>\n",
       "      <th>first_date</th>\n",
       "      <th>region</th>\n",
       "      <th>device</th>\n",
       "    </tr>\n",
       "  </thead>\n",
       "  <tbody>\n",
       "    <tr>\n",
       "      <th>0</th>\n",
       "      <td>D72A72121175D8BE</td>\n",
       "      <td>2020-12-07</td>\n",
       "      <td>EU</td>\n",
       "      <td>PC</td>\n",
       "    </tr>\n",
       "    <tr>\n",
       "      <th>1</th>\n",
       "      <td>F1C668619DFE6E65</td>\n",
       "      <td>2020-12-07</td>\n",
       "      <td>N.America</td>\n",
       "      <td>Android</td>\n",
       "    </tr>\n",
       "    <tr>\n",
       "      <th>2</th>\n",
       "      <td>2E1BF1D4C37EA01F</td>\n",
       "      <td>2020-12-07</td>\n",
       "      <td>EU</td>\n",
       "      <td>PC</td>\n",
       "    </tr>\n",
       "    <tr>\n",
       "      <th>3</th>\n",
       "      <td>50734A22C0C63768</td>\n",
       "      <td>2020-12-07</td>\n",
       "      <td>EU</td>\n",
       "      <td>iPhone</td>\n",
       "    </tr>\n",
       "    <tr>\n",
       "      <th>4</th>\n",
       "      <td>E1BDDCE0DAFA2679</td>\n",
       "      <td>2020-12-07</td>\n",
       "      <td>N.America</td>\n",
       "      <td>iPhone</td>\n",
       "    </tr>\n",
       "  </tbody>\n",
       "</table>\n",
       "</div>"
      ],
      "text/plain": [
       "            user_id  first_date     region   device\n",
       "0  D72A72121175D8BE  2020-12-07         EU       PC\n",
       "1  F1C668619DFE6E65  2020-12-07  N.America  Android\n",
       "2  2E1BF1D4C37EA01F  2020-12-07         EU       PC\n",
       "3  50734A22C0C63768  2020-12-07         EU   iPhone\n",
       "4  E1BDDCE0DAFA2679  2020-12-07  N.America   iPhone"
      ]
     },
     "execution_count": 85,
     "metadata": {},
     "output_type": "execute_result"
    }
   ],
   "source": [
    "final_ab_new_users.head()"
   ]
  },
  {
   "cell_type": "code",
   "execution_count": 86,
   "metadata": {
    "trusted": true
   },
   "outputs": [
    {
     "name": "stdout",
     "output_type": "stream",
     "text": [
      "<class 'pandas.core.frame.DataFrame'>\n",
      "RangeIndex: 58703 entries, 0 to 58702\n",
      "Data columns (total 4 columns):\n",
      " #   Column      Non-Null Count  Dtype \n",
      "---  ------      --------------  ----- \n",
      " 0   user_id     58703 non-null  object\n",
      " 1   first_date  58703 non-null  object\n",
      " 2   region      58703 non-null  object\n",
      " 3   device      58703 non-null  object\n",
      "dtypes: object(4)\n",
      "memory usage: 1.8+ MB\n"
     ]
    }
   ],
   "source": [
    "final_ab_new_users.info()"
   ]
  },
  {
   "cell_type": "code",
   "execution_count": 87,
   "metadata": {
    "trusted": true
   },
   "outputs": [
    {
     "data": {
      "text/plain": [
       "0"
      ]
     },
     "execution_count": 87,
     "metadata": {},
     "output_type": "execute_result"
    }
   ],
   "source": [
    "# Revisar valores duplicados\n",
    "final_ab_new_users.duplicated().sum()"
   ]
  },
  {
   "cell_type": "code",
   "execution_count": 88,
   "metadata": {
    "trusted": true
   },
   "outputs": [],
   "source": [
    "# Modificar la columna first_date a formato datetime\n",
    "final_ab_new_users['first_date'] = pd.to_datetime(final_ab_new_users['first_date'], format='%Y-%m-%d')"
   ]
  },
  {
   "cell_type": "markdown",
   "metadata": {},
   "source": [
    "**Visualizar el DF final_ab_events**"
   ]
  },
  {
   "cell_type": "code",
   "execution_count": 89,
   "metadata": {
    "trusted": true
   },
   "outputs": [
    {
     "data": {
      "text/html": [
       "<div>\n",
       "<style scoped>\n",
       "    .dataframe tbody tr th:only-of-type {\n",
       "        vertical-align: middle;\n",
       "    }\n",
       "\n",
       "    .dataframe tbody tr th {\n",
       "        vertical-align: top;\n",
       "    }\n",
       "\n",
       "    .dataframe thead th {\n",
       "        text-align: right;\n",
       "    }\n",
       "</style>\n",
       "<table border=\"1\" class=\"dataframe\">\n",
       "  <thead>\n",
       "    <tr style=\"text-align: right;\">\n",
       "      <th></th>\n",
       "      <th>user_id</th>\n",
       "      <th>event_dt</th>\n",
       "      <th>event_name</th>\n",
       "      <th>details</th>\n",
       "    </tr>\n",
       "  </thead>\n",
       "  <tbody>\n",
       "    <tr>\n",
       "      <th>0</th>\n",
       "      <td>E1BDDCE0DAFA2679</td>\n",
       "      <td>2020-12-07 20:22:03</td>\n",
       "      <td>purchase</td>\n",
       "      <td>99.99</td>\n",
       "    </tr>\n",
       "    <tr>\n",
       "      <th>1</th>\n",
       "      <td>7B6452F081F49504</td>\n",
       "      <td>2020-12-07 09:22:53</td>\n",
       "      <td>purchase</td>\n",
       "      <td>9.99</td>\n",
       "    </tr>\n",
       "    <tr>\n",
       "      <th>2</th>\n",
       "      <td>9CD9F34546DF254C</td>\n",
       "      <td>2020-12-07 12:59:29</td>\n",
       "      <td>purchase</td>\n",
       "      <td>4.99</td>\n",
       "    </tr>\n",
       "    <tr>\n",
       "      <th>3</th>\n",
       "      <td>96F27A054B191457</td>\n",
       "      <td>2020-12-07 04:02:40</td>\n",
       "      <td>purchase</td>\n",
       "      <td>4.99</td>\n",
       "    </tr>\n",
       "    <tr>\n",
       "      <th>4</th>\n",
       "      <td>1FD7660FDF94CA1F</td>\n",
       "      <td>2020-12-07 10:15:09</td>\n",
       "      <td>purchase</td>\n",
       "      <td>4.99</td>\n",
       "    </tr>\n",
       "  </tbody>\n",
       "</table>\n",
       "</div>"
      ],
      "text/plain": [
       "            user_id             event_dt event_name  details\n",
       "0  E1BDDCE0DAFA2679  2020-12-07 20:22:03   purchase    99.99\n",
       "1  7B6452F081F49504  2020-12-07 09:22:53   purchase     9.99\n",
       "2  9CD9F34546DF254C  2020-12-07 12:59:29   purchase     4.99\n",
       "3  96F27A054B191457  2020-12-07 04:02:40   purchase     4.99\n",
       "4  1FD7660FDF94CA1F  2020-12-07 10:15:09   purchase     4.99"
      ]
     },
     "execution_count": 89,
     "metadata": {},
     "output_type": "execute_result"
    }
   ],
   "source": [
    "final_ab_events.head()"
   ]
  },
  {
   "cell_type": "code",
   "execution_count": 90,
   "metadata": {
    "trusted": true
   },
   "outputs": [
    {
     "name": "stdout",
     "output_type": "stream",
     "text": [
      "<class 'pandas.core.frame.DataFrame'>\n",
      "RangeIndex: 423761 entries, 0 to 423760\n",
      "Data columns (total 4 columns):\n",
      " #   Column      Non-Null Count   Dtype  \n",
      "---  ------      --------------   -----  \n",
      " 0   user_id     423761 non-null  object \n",
      " 1   event_dt    423761 non-null  object \n",
      " 2   event_name  423761 non-null  object \n",
      " 3   details     60314 non-null   float64\n",
      "dtypes: float64(1), object(3)\n",
      "memory usage: 12.9+ MB\n"
     ]
    }
   ],
   "source": [
    "final_ab_events.info()"
   ]
  },
  {
   "cell_type": "code",
   "execution_count": 91,
   "metadata": {
    "trusted": true
   },
   "outputs": [
    {
     "data": {
      "text/plain": [
       "0"
      ]
     },
     "execution_count": 91,
     "metadata": {},
     "output_type": "execute_result"
    }
   ],
   "source": [
    "# Revisar valores duplicados\n",
    "final_ab_events.duplicated().sum()"
   ]
  },
  {
   "cell_type": "markdown",
   "metadata": {},
   "source": [
    "**Visualizar DF final_ab_participants**"
   ]
  },
  {
   "cell_type": "code",
   "execution_count": 92,
   "metadata": {
    "trusted": true
   },
   "outputs": [
    {
     "data": {
      "text/html": [
       "<div>\n",
       "<style scoped>\n",
       "    .dataframe tbody tr th:only-of-type {\n",
       "        vertical-align: middle;\n",
       "    }\n",
       "\n",
       "    .dataframe tbody tr th {\n",
       "        vertical-align: top;\n",
       "    }\n",
       "\n",
       "    .dataframe thead th {\n",
       "        text-align: right;\n",
       "    }\n",
       "</style>\n",
       "<table border=\"1\" class=\"dataframe\">\n",
       "  <thead>\n",
       "    <tr style=\"text-align: right;\">\n",
       "      <th></th>\n",
       "      <th>user_id</th>\n",
       "      <th>group</th>\n",
       "      <th>ab_test</th>\n",
       "    </tr>\n",
       "  </thead>\n",
       "  <tbody>\n",
       "    <tr>\n",
       "      <th>0</th>\n",
       "      <td>D1ABA3E2887B6A73</td>\n",
       "      <td>A</td>\n",
       "      <td>recommender_system_test</td>\n",
       "    </tr>\n",
       "    <tr>\n",
       "      <th>1</th>\n",
       "      <td>A7A3664BD6242119</td>\n",
       "      <td>A</td>\n",
       "      <td>recommender_system_test</td>\n",
       "    </tr>\n",
       "    <tr>\n",
       "      <th>2</th>\n",
       "      <td>DABC14FDDFADD29E</td>\n",
       "      <td>A</td>\n",
       "      <td>recommender_system_test</td>\n",
       "    </tr>\n",
       "    <tr>\n",
       "      <th>3</th>\n",
       "      <td>04988C5DF189632E</td>\n",
       "      <td>A</td>\n",
       "      <td>recommender_system_test</td>\n",
       "    </tr>\n",
       "    <tr>\n",
       "      <th>4</th>\n",
       "      <td>4FF2998A348C484F</td>\n",
       "      <td>A</td>\n",
       "      <td>recommender_system_test</td>\n",
       "    </tr>\n",
       "  </tbody>\n",
       "</table>\n",
       "</div>"
      ],
      "text/plain": [
       "            user_id group                  ab_test\n",
       "0  D1ABA3E2887B6A73     A  recommender_system_test\n",
       "1  A7A3664BD6242119     A  recommender_system_test\n",
       "2  DABC14FDDFADD29E     A  recommender_system_test\n",
       "3  04988C5DF189632E     A  recommender_system_test\n",
       "4  4FF2998A348C484F     A  recommender_system_test"
      ]
     },
     "execution_count": 92,
     "metadata": {},
     "output_type": "execute_result"
    }
   ],
   "source": [
    "final_ab_participants.head()"
   ]
  },
  {
   "cell_type": "code",
   "execution_count": 93,
   "metadata": {
    "trusted": true
   },
   "outputs": [
    {
     "name": "stdout",
     "output_type": "stream",
     "text": [
      "<class 'pandas.core.frame.DataFrame'>\n",
      "RangeIndex: 14525 entries, 0 to 14524\n",
      "Data columns (total 3 columns):\n",
      " #   Column   Non-Null Count  Dtype \n",
      "---  ------   --------------  ----- \n",
      " 0   user_id  14525 non-null  object\n",
      " 1   group    14525 non-null  object\n",
      " 2   ab_test  14525 non-null  object\n",
      "dtypes: object(3)\n",
      "memory usage: 340.6+ KB\n"
     ]
    }
   ],
   "source": [
    "final_ab_participants.info()"
   ]
  },
  {
   "cell_type": "code",
   "execution_count": 94,
   "metadata": {
    "trusted": true
   },
   "outputs": [
    {
     "data": {
      "text/plain": [
       "0"
      ]
     },
     "execution_count": 94,
     "metadata": {},
     "output_type": "execute_result"
    }
   ],
   "source": [
    "#Revisar valores duplicados\n",
    "final_ab_participants.duplicated().sum()"
   ]
  },
  {
   "cell_type": "code",
   "execution_count": 95,
   "metadata": {
    "trusted": true
   },
   "outputs": [
    {
     "name": "stdout",
     "output_type": "stream",
     "text": [
      "Usuarios en ambos grupos: 1774\n",
      "group\n",
      "A    8214\n",
      "B    6311\n",
      "dtype: int64\n"
     ]
    }
   ],
   "source": [
    "# Revisar valores duplicados en la columna user_id para ambos grupos\n",
    "group_counts = final_ab_participants.groupby('group').size()\n",
    "\n",
    "# Contar usuarios duplicados (que están en ambos grupos)\n",
    "duplicated_users = final_ab_participants.duplicated(subset=['user_id'], keep=False).sum()\n",
    "\n",
    "print(f'Usuarios en ambos grupos: {duplicated_users}')\n",
    "print(group_counts)\n"
   ]
  },
  {
   "cell_type": "code",
   "execution_count": 96,
   "metadata": {
    "trusted": true
   },
   "outputs": [
    {
     "name": "stdout",
     "output_type": "stream",
     "text": [
      "7093\n",
      "5658\n"
     ]
    }
   ],
   "source": [
    "# Eliminar los valores duplicados\n",
    "duplicated_users=final_ab_participants[final_ab_participants.duplicated(subset=['user_id'], keep=False)]['user_id'].unique()\n",
    "unique_participants=final_ab_participants[~final_ab_participants['user_id'].isin(duplicated_users)]\n",
    "count_group_A = unique_participants[unique_participants['group'] == 'A']['user_id'].nunique()\n",
    "count_group_B = unique_participants[unique_participants['group'] == 'B']['user_id'].nunique()\n",
    "print(count_group_A)\n",
    "print(count_group_B)"
   ]
  },
  {
   "cell_type": "markdown",
   "metadata": {},
   "source": [
    "**Análisis EDA**"
   ]
  },
  {
   "cell_type": "markdown",
   "metadata": {},
   "source": [
    "Análisis de la distribución de eventos a lo largo del tiempo"
   ]
  },
  {
   "cell_type": "code",
   "execution_count": 97,
   "metadata": {
    "trusted": true
   },
   "outputs": [
    {
     "data": {
      "image/png": "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",
      "text/plain": [
       "<Figure size 1500x500 with 1 Axes>"
      ]
     },
     "metadata": {},
     "output_type": "display_data"
    }
   ],
   "source": [
    "# Contar el número de eventos por tipo\n",
    "final_ab_events['event_dt'] = pd.to_datetime(final_ab_events['event_dt']).dt.date\n",
    "event_counts = final_ab_events.groupby(['event_dt', 'event_name']).size().reset_index(name='event_count')\n",
    "\n",
    "# Graficar\n",
    "plt.figure(figsize=(15, 5))\n",
    "\n",
    "for event in event_counts['event_name'].unique():\n",
    "    subset = event_counts[event_counts['event_name'] == event]\n",
    "    plt.plot(subset['event_dt'], subset['event_count'], marker='o', linestyle='-', label=event)\n",
    "\n",
    "# Configurar etiquetas y título\n",
    "plt.xlabel(\"Fecha\")\n",
    "plt.ylabel(\"Número total de eventos\")\n",
    "plt.title(\"Distribución de eventos por día y tipo de evento\")\n",
    "plt.legend(title=\"Tipo de Evento\")\n",
    "plt.grid(True)\n",
    "plt.xticks(rotation=45)\n",
    "\n",
    "plt.show()"
   ]
  },
  {
   "cell_type": "markdown",
   "metadata": {},
   "source": [
    "El comportamiento de los usuarios de la tienda en línea ha experimentado un aumento desde el 2020, esto puede deberse a que la mayoría de los compradores no podían salir de sus casas debido a la pandemia. También se puede visualizar que no todas las sesiones iniciadas terminan en compras  y no todos los productos agregados al carrito terminan siendo comprados."
   ]
  },
  {
   "cell_type": "markdown",
   "metadata": {},
   "source": [
    "<div class=\"alert alert-block alert-danger\">\n",
    "<b>Comentario del revisor (2da Iteracion)</b> <a class=“tocSkip”></a>\n",
    "\n",
    "Deberías tener una gráfica de líneas por cada fecha (Sin el dato de hora:minutos:segundos) y se debe contar el total no evento por evento, lo que si se debe separar es que debe haber 2 líneas una por cada grupo\n",
    "</div>"
   ]
  },
  {
   "cell_type": "markdown",
   "metadata": {},
   "source": [
    "<div class=\"alert alert-block alert-warning\">\n",
    "<b>Comentario del revisor (3ra Iteración)</b> <a class=\"tocSkip\"></a>\n",
    "    \n",
    "Bien, ahora se puede ver mejor la tendencia sólo que sería mejor **mostrar por grupo AB** en lugar de evento ya que los eventos tendrán una tendencia similar"
   ]
  },
  {
   "cell_type": "markdown",
   "metadata": {},
   "source": [
    "Estudiar la conversión en las diferentes etapas del embudo."
   ]
  },
  {
   "cell_type": "code",
   "execution_count": 98,
   "metadata": {
    "trusted": true
   },
   "outputs": [
    {
     "name": "stdout",
     "output_type": "stream",
     "text": [
      "Tasa de conversión A - login → product_page: 66.15%\n",
      "Tasa de conversión A - login → product_cart: 31.54%\n",
      "Tasa de conversión A - login → purchase: 34.07%\n",
      "Tasa de conversión B - login → product_page: 64.25%\n",
      "Tasa de conversión B - login → product_cart: 32.83%\n",
      "Tasa de conversión B - login → purchase: 32.37%\n"
     ]
    }
   ],
   "source": [
    "# Unir los eventos con los participantes para obtener el grupo de cada usuario\n",
    "events = final_ab_events.merge(final_ab_participants, on='user_id')\n",
    "events_A = events[events['group'] == 'A']\n",
    "events_B = events[events['group'] == 'B']\n",
    "\n",
    "# Contar el número de eventos por tipo para el grupo A\n",
    "A_login = events_A[events_A['event_name'] == 'login']['user_id'].nunique()\n",
    "A_product_page = events_A[events_A['event_name'] == 'product_page']['user_id'].nunique()\n",
    "A_cart = events_A[events_A['event_name'] == 'product_cart']['user_id'].nunique()\n",
    "A_purchase = events_A[events_A['event_name'] == 'purchase']['user_id'].nunique()\n",
    "\n",
    "# Contar el número de eventos por tipo para el grupo B\n",
    "B_login = events_B[events_B['event_name'] == 'login']['user_id'].nunique()\n",
    "B_product_page = events_B[events_B['event_name'] == 'product_page']['user_id'].nunique()\n",
    "B_cart = events_B[events_B['event_name'] == 'product_cart']['user_id'].nunique()\n",
    "B_purchase = events_B[events_B['event_name'] == 'purchase']['user_id'].nunique()\n",
    "\n",
    "# Calcular tasas de conversión usando \"login\" como base\n",
    "conv_A_product_page = A_product_page / A_login\n",
    "conv_A_cart = A_cart / A_login\n",
    "conv_A_final = A_purchase / A_login\n",
    "\n",
    "conv_B_product_page = B_product_page / B_login\n",
    "conv_B_cart = B_cart / B_login\n",
    "conv_B_final = B_purchase / B_login\n",
    "\n",
    "# Mostrar resultados\n",
    "print(f\"Tasa de conversión A - login → product_page: {conv_A_product_page:.2%}\")\n",
    "print(f\"Tasa de conversión A - login → product_cart: {conv_A_cart:.2%}\")\n",
    "print(f\"Tasa de conversión A - login → purchase: {conv_A_purchase:.2%}\")\n",
    "\n",
    "print(f\"Tasa de conversión B - login → product_page: {conv_B_product_page:.2%}\")\n",
    "print(f\"Tasa de conversión B - login → product_cart: {conv_B_cart:.2%}\")\n",
    "print(f\"Tasa de conversión B - login → purchase: {conv_B_purchase:.2%}\")\n"
   ]
  },
  {
   "cell_type": "code",
   "execution_count": 99,
   "metadata": {
    "trusted": true
   },
   "outputs": [
    {
     "data": {
      "image/png": "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",
      "text/plain": [
       "<Figure size 800x500 with 1 Axes>"
      ]
     },
     "metadata": {},
     "output_type": "display_data"
    }
   ],
   "source": [
    "# Grafica de barra para mostrar el resultado\n",
    "etapas = ['Login → Product Page', 'Login → Cart', 'Login → Purchase']\n",
    "tasas_A = [conv_A_product_page, conv_A_cart, conv_A_purchase]\n",
    "tasas_B = [conv_B_product_page, conv_B_cart, conv_B_purchase]\n",
    "\n",
    "# Crear gráfico\n",
    "x = np.arange(len(etapas))  # Posiciones en X\n",
    "width = 0.4  # Ancho de las barras\n",
    "\n",
    "plt.figure(figsize=(8, 5))  # Tamaño del gráfico\n",
    "plt.bar(x - width/2, tasas_A, width, label='Grupo A', color='blue')\n",
    "plt.bar(x + width/2, tasas_B, width, label='Grupo B', color='orange')\n",
    "\n",
    "# Etiquetas\n",
    "plt.xticks(x, etapas, rotation=15)  # Poner nombres a las barras\n",
    "plt.xlabel('Etapas del Embudo')\n",
    "plt.ylabel('Tasa de Conversión')\n",
    "plt.title('Tasas de Conversión por Grupo')\n",
    "plt.legend()\n",
    "\n",
    "plt.show()"
   ]
  },
  {
   "cell_type": "markdown",
   "metadata": {},
   "source": [
    "No se cumplió el objetivo esperado, el grupo B no alcanzó al menos un 10% de aumento como se esperaba, al contrario hubo una disminución."
   ]
  },
  {
   "cell_type": "markdown",
   "metadata": {},
   "source": [
    "<div class=\"alert alert-block alert-warning\">\n",
    "<b>Comentario del revisor (2da Iteracion)</b> <a class=“tocSkip”></a>\n",
    "\n",
    "Podrías complementar esto de una mejor manera con un gráfico de barras mostrando la conversión de cada evento por grupo\n",
    "</div>"
   ]
  },
  {
   "cell_type": "markdown",
   "metadata": {},
   "source": [
    "<div class=\"alert alert-block alert-success\">\n",
    "<b>Comentario del revisor (3ra Iteración)</b> <a class=\"tocSkip\"></a>\n",
    "    \n",
    "Excelente, así es mucho más fácil hacer la comparación de proporciones entre cada grupo"
   ]
  },
  {
   "cell_type": "markdown",
   "metadata": {},
   "source": [
    "**Prueba z para comprobar la diferencia estadística entre las proporciones**\n",
    "\n",
    "Hipótesis Nula: No hay diferencia significativa en la conversión entre los grupos A y B.\n",
    "\n",
    "Hipótesis Alternativa: Hay una diferencia significativa en la conversión entre los grupos."
   ]
  },
  {
   "cell_type": "code",
   "execution_count": 101,
   "metadata": {
    "trusted": true
   },
   "outputs": [
    {
     "name": "stdout",
     "output_type": "stream",
     "text": [
      "Z-score (Product Page → Cart): 1.20, p-valor: 0.22897\n",
      "Z-score (Cart → Purchase): 1.98, p-valor: 0.04760\n",
      "Z-score (Product Page → Purchase): 1.51, p-valor: 0.13190\n"
     ]
    }
   ],
   "source": [
    "# Calcular el total de usuarios en cada grupo (para las pruebas Z)\n",
    "users_A = len(events_A['user_id'].unique())\n",
    "users_B = len(events_B['user_id'].unique())\n",
    "\n",
    "# Cantidad de conversiones para cada grupo\n",
    "conversions_A_page_cart = count_group_A * conv_A_product_page\n",
    "conversions_B_page_cart = count_group_B * conv_B_product_page\n",
    "\n",
    "conversions_A_cart_purchase = conversions_A_page_cart * conv_A_purchase\n",
    "conversions_B_cart_purchase = conversions_B_page_cart * conv_B_purchase\n",
    "\n",
    "conversions_A_page_purchase = count_group_A * conv_A_final\n",
    "conversions_B_page_purchase = count_group_B * conv_B_final\n",
    "\n",
    "# Realizar prueba Z\n",
    "def z_test_conversion(success_A, success_B, total_A, total_B):\n",
    "    count = np.array([success_A, success_B])\n",
    "    nobs = np.array([total_A, total_B])\n",
    "    z_score, p_value = proportions_ztest(count, nobs)\n",
    "    return z_score, p_value\n",
    "\n",
    "# Pruebas Z para cada conversión\n",
    "z1, p1 = z_test_conversion(conversions_A_page_cart, conversions_B_page_cart, users_A, users_B)\n",
    "z2, p2 = z_test_conversion(conversions_A_cart_purchase, conversions_B_cart_purchase, users_A, users_B)\n",
    "z3, p3 = z_test_conversion(conversions_A_page_purchase, conversions_B_page_purchase, users_A, users_B)\n",
    "\n",
    "# Resultados\n",
    "print(f\"Z-score (Product Page → Cart): {z1:.2f}, p-valor: {p1:.5f}\")\n",
    "print(f\"Z-score (Cart → Purchase): {z2:.2f}, p-valor: {p2:.5f}\")\n",
    "print(f\"Z-score (Product Page → Purchase): {z3:.2f}, p-valor: {p3:.5f}\")  \n"
   ]
  },
  {
   "cell_type": "markdown",
   "metadata": {},
   "source": [
    "Dado que todos los p-valores son mayores a 0.05, no podemos rechazar la hipótesis nula de que las tasas de conversión en ambos grupos son iguales."
   ]
  },
  {
   "cell_type": "markdown",
   "metadata": {},
   "source": [
    "**Conclusión**:\n",
    "\n",
    "- Al realizar el Análisis Exploratorio se encontraron user_id duplicados en ambos grupos, lo cual estaba haciendo que la prueba diera resultados erróneos. \n",
    "- Se encuentra que la introducción de un sistema de recomendaciones mejorado no ayudó a la conversión de compradores, al contrario, hubo una disminución.  \n",
    "- No se acepta la hipótesis nula de que no hay diferencia significativa en la conversión entre los grupos A y B, ya que el p-value es mayor a 0.05 para los eventos Product Page → Cart y roduct Page → Purchase, para el evento Cart → Purchase) no se puede rechazar la Hipótesis nula de que no diferencias significativas entre los grupos. Es decir, el nuevo embudo de pago pudo mejorar esta sección en el embudo, pero siendo más estricto con el alpha, este evento no pasaría la prueba.\n",
    "- Dado lo anterior, se debe revisar si este método de pago está teniendo alguna falla que hace que los clientes potenciales desistan de su compra.\n"
   ]
  },
  {
   "cell_type": "markdown",
   "metadata": {},
   "source": [
    "<div class=\"alert alert-block alert-success\">\n",
    "<b>Comentario del revisor (3ra Iteración)</b> <a class=\"tocSkip\"></a>\n",
    "    \n",
    "Buen trabajo con los últimos cambios Susana, de esta forma tu prueba AB tiene más detalles y las métricas se comparan para cada grupo. Siempre en este tipo de análisis debes buscar aprender lo más que se pueda del comportamiento de los grupos ya que esto ayudará con la toma de decisiones en la empresa para la cual realices el análisis.\n",
    "    \n",
    "Saludos!"
   ]
  }
 ],
 "metadata": {
  "ExecuteTimeLog": [
   {
    "duration": 3567,
    "start_time": "2025-03-26T00:58:54.675Z"
   },
   {
    "duration": 676,
    "start_time": "2025-03-26T00:58:58.245Z"
   },
   {
    "duration": 0,
    "start_time": "2025-03-26T00:58:58.924Z"
   },
   {
    "duration": 0,
    "start_time": "2025-03-26T00:58:58.926Z"
   },
   {
    "duration": 0,
    "start_time": "2025-03-26T00:58:58.927Z"
   },
   {
    "duration": 0,
    "start_time": "2025-03-26T00:58:58.928Z"
   },
   {
    "duration": 0,
    "start_time": "2025-03-26T00:58:58.930Z"
   },
   {
    "duration": 0,
    "start_time": "2025-03-26T00:58:58.931Z"
   },
   {
    "duration": 0,
    "start_time": "2025-03-26T00:58:58.932Z"
   },
   {
    "duration": 0,
    "start_time": "2025-03-26T00:58:58.934Z"
   },
   {
    "duration": 0,
    "start_time": "2025-03-26T00:58:58.936Z"
   },
   {
    "duration": 0,
    "start_time": "2025-03-26T00:58:58.937Z"
   },
   {
    "duration": 0,
    "start_time": "2025-03-26T00:58:58.939Z"
   },
   {
    "duration": 0,
    "start_time": "2025-03-26T00:58:58.940Z"
   },
   {
    "duration": 0,
    "start_time": "2025-03-26T00:58:58.941Z"
   },
   {
    "duration": 0,
    "start_time": "2025-03-26T00:58:58.942Z"
   },
   {
    "duration": 0,
    "start_time": "2025-03-26T00:58:58.943Z"
   },
   {
    "duration": 0,
    "start_time": "2025-03-26T00:58:58.944Z"
   },
   {
    "duration": 0,
    "start_time": "2025-03-26T00:58:58.945Z"
   },
   {
    "duration": 0,
    "start_time": "2025-03-26T00:58:58.947Z"
   },
   {
    "duration": 0,
    "start_time": "2025-03-26T00:58:58.948Z"
   },
   {
    "duration": 94,
    "start_time": "2025-03-26T01:00:13.365Z"
   },
   {
    "duration": 96,
    "start_time": "2025-03-26T01:00:29.847Z"
   },
   {
    "duration": 804,
    "start_time": "2025-03-26T01:06:30.184Z"
   },
   {
    "duration": 4,
    "start_time": "2025-03-26T01:06:35.469Z"
   },
   {
    "duration": 555,
    "start_time": "2025-03-26T01:06:35.482Z"
   },
   {
    "duration": 10,
    "start_time": "2025-03-26T01:06:36.045Z"
   },
   {
    "duration": 14,
    "start_time": "2025-03-26T01:06:36.058Z"
   },
   {
    "duration": 7,
    "start_time": "2025-03-26T01:06:36.074Z"
   },
   {
    "duration": 7,
    "start_time": "2025-03-26T01:06:36.085Z"
   },
   {
    "duration": 10,
    "start_time": "2025-03-26T01:06:36.095Z"
   },
   {
    "duration": 17,
    "start_time": "2025-03-26T01:06:36.109Z"
   },
   {
    "duration": 35,
    "start_time": "2025-03-26T01:06:36.130Z"
   },
   {
    "duration": 12,
    "start_time": "2025-03-26T01:06:36.170Z"
   },
   {
    "duration": 10,
    "start_time": "2025-03-26T01:06:36.187Z"
   },
   {
    "duration": 57,
    "start_time": "2025-03-26T01:06:36.202Z"
   },
   {
    "duration": 216,
    "start_time": "2025-03-26T01:06:36.264Z"
   },
   {
    "duration": 10,
    "start_time": "2025-03-26T01:06:36.485Z"
   },
   {
    "duration": 11,
    "start_time": "2025-03-26T01:06:36.501Z"
   },
   {
    "duration": 13,
    "start_time": "2025-03-26T01:06:36.517Z"
   },
   {
    "duration": 125,
    "start_time": "2025-03-26T01:06:36.535Z"
   },
   {
    "duration": 0,
    "start_time": "2025-03-26T01:06:36.665Z"
   },
   {
    "duration": 0,
    "start_time": "2025-03-26T01:06:36.670Z"
   },
   {
    "duration": 0,
    "start_time": "2025-03-26T01:06:36.674Z"
   },
   {
    "duration": 0,
    "start_time": "2025-03-26T01:06:36.678Z"
   },
   {
    "duration": 13,
    "start_time": "2025-03-26T01:06:45.561Z"
   },
   {
    "duration": 5,
    "start_time": "2025-03-26T01:07:15.578Z"
   },
   {
    "duration": 587,
    "start_time": "2025-03-26T01:07:15.585Z"
   },
   {
    "duration": 9,
    "start_time": "2025-03-26T01:07:16.174Z"
   },
   {
    "duration": 8,
    "start_time": "2025-03-26T01:07:16.185Z"
   },
   {
    "duration": 4,
    "start_time": "2025-03-26T01:07:16.195Z"
   },
   {
    "duration": 23,
    "start_time": "2025-03-26T01:07:16.201Z"
   },
   {
    "duration": 23,
    "start_time": "2025-03-26T01:07:16.234Z"
   },
   {
    "duration": 17,
    "start_time": "2025-03-26T01:07:16.265Z"
   },
   {
    "duration": 56,
    "start_time": "2025-03-26T01:07:16.284Z"
   },
   {
    "duration": 16,
    "start_time": "2025-03-26T01:07:16.355Z"
   },
   {
    "duration": 7,
    "start_time": "2025-03-26T01:07:16.372Z"
   },
   {
    "duration": 88,
    "start_time": "2025-03-26T01:07:16.381Z"
   },
   {
    "duration": 186,
    "start_time": "2025-03-26T01:07:16.471Z"
   },
   {
    "duration": 6,
    "start_time": "2025-03-26T01:07:16.660Z"
   },
   {
    "duration": 12,
    "start_time": "2025-03-26T01:07:16.668Z"
   },
   {
    "duration": 15,
    "start_time": "2025-03-26T01:07:16.682Z"
   },
   {
    "duration": 46,
    "start_time": "2025-03-26T01:07:16.699Z"
   },
   {
    "duration": 0,
    "start_time": "2025-03-26T01:07:16.748Z"
   },
   {
    "duration": 0,
    "start_time": "2025-03-26T01:07:16.749Z"
   },
   {
    "duration": 0,
    "start_time": "2025-03-26T01:07:16.750Z"
   },
   {
    "duration": 0,
    "start_time": "2025-03-26T01:07:16.751Z"
   },
   {
    "duration": 9,
    "start_time": "2025-03-26T01:08:41.147Z"
   },
   {
    "duration": 12,
    "start_time": "2025-03-26T01:08:58.378Z"
   },
   {
    "duration": 16,
    "start_time": "2025-03-26T01:09:16.025Z"
   },
   {
    "duration": 16,
    "start_time": "2025-03-26T01:09:28.153Z"
   },
   {
    "duration": 180,
    "start_time": "2025-03-26T01:10:46.644Z"
   },
   {
    "duration": 516,
    "start_time": "2025-03-26T01:11:08.744Z"
   },
   {
    "duration": 218,
    "start_time": "2025-03-26T01:12:32.158Z"
   },
   {
    "duration": 467,
    "start_time": "2025-03-26T01:13:27.132Z"
   },
   {
    "duration": 24,
    "start_time": "2025-03-26T01:22:03.854Z"
   },
   {
    "duration": 154,
    "start_time": "2025-03-26T01:22:10.970Z"
   },
   {
    "duration": 166,
    "start_time": "2025-03-26T01:22:13.962Z"
   },
   {
    "duration": 5,
    "start_time": "2025-03-26T01:24:51.611Z"
   },
   {
    "duration": 450,
    "start_time": "2025-03-26T01:24:51.617Z"
   },
   {
    "duration": 8,
    "start_time": "2025-03-26T01:24:52.069Z"
   },
   {
    "duration": 9,
    "start_time": "2025-03-26T01:24:52.078Z"
   },
   {
    "duration": 4,
    "start_time": "2025-03-26T01:24:52.089Z"
   },
   {
    "duration": 5,
    "start_time": "2025-03-26T01:24:52.095Z"
   },
   {
    "duration": 15,
    "start_time": "2025-03-26T01:24:52.113Z"
   },
   {
    "duration": 19,
    "start_time": "2025-03-26T01:24:52.129Z"
   },
   {
    "duration": 23,
    "start_time": "2025-03-26T01:24:52.150Z"
   },
   {
    "duration": 9,
    "start_time": "2025-03-26T01:24:52.175Z"
   },
   {
    "duration": 7,
    "start_time": "2025-03-26T01:24:52.187Z"
   },
   {
    "duration": 73,
    "start_time": "2025-03-26T01:24:52.196Z"
   },
   {
    "duration": 224,
    "start_time": "2025-03-26T01:24:52.271Z"
   },
   {
    "duration": 17,
    "start_time": "2025-03-26T01:24:52.500Z"
   },
   {
    "duration": 29,
    "start_time": "2025-03-26T01:24:52.527Z"
   },
   {
    "duration": 8,
    "start_time": "2025-03-26T01:24:52.557Z"
   },
   {
    "duration": 8,
    "start_time": "2025-03-26T01:24:52.567Z"
   },
   {
    "duration": 15,
    "start_time": "2025-03-26T01:24:52.577Z"
   },
   {
    "duration": 654,
    "start_time": "2025-03-26T01:24:52.593Z"
   },
   {
    "duration": 144,
    "start_time": "2025-03-26T01:24:53.253Z"
   },
   {
    "duration": 149,
    "start_time": "2025-03-26T01:24:53.400Z"
   },
   {
    "duration": 28,
    "start_time": "2025-03-26T01:24:53.552Z"
   },
   {
    "duration": 21,
    "start_time": "2025-03-26T01:25:15.155Z"
   },
   {
    "duration": 143,
    "start_time": "2025-03-26T01:25:22.539Z"
   },
   {
    "duration": 23,
    "start_time": "2025-03-26T01:25:29.169Z"
   },
   {
    "duration": 23,
    "start_time": "2025-03-26T01:26:16.458Z"
   },
   {
    "duration": 25,
    "start_time": "2025-03-26T01:29:01.261Z"
   },
   {
    "duration": 4,
    "start_time": "2025-03-26T01:32:46.437Z"
   },
   {
    "duration": 500,
    "start_time": "2025-03-26T01:32:46.444Z"
   },
   {
    "duration": 8,
    "start_time": "2025-03-26T01:32:46.946Z"
   },
   {
    "duration": 8,
    "start_time": "2025-03-26T01:32:46.956Z"
   },
   {
    "duration": 5,
    "start_time": "2025-03-26T01:32:46.967Z"
   },
   {
    "duration": 7,
    "start_time": "2025-03-26T01:32:46.974Z"
   },
   {
    "duration": 9,
    "start_time": "2025-03-26T01:32:46.982Z"
   },
   {
    "duration": 28,
    "start_time": "2025-03-26T01:32:46.992Z"
   },
   {
    "duration": 24,
    "start_time": "2025-03-26T01:32:47.037Z"
   },
   {
    "duration": 9,
    "start_time": "2025-03-26T01:32:47.064Z"
   },
   {
    "duration": 7,
    "start_time": "2025-03-26T01:32:47.075Z"
   },
   {
    "duration": 78,
    "start_time": "2025-03-26T01:32:47.083Z"
   },
   {
    "duration": 213,
    "start_time": "2025-03-26T01:32:47.163Z"
   },
   {
    "duration": 7,
    "start_time": "2025-03-26T01:32:47.378Z"
   },
   {
    "duration": 34,
    "start_time": "2025-03-26T01:32:47.386Z"
   },
   {
    "duration": 17,
    "start_time": "2025-03-26T01:32:47.431Z"
   },
   {
    "duration": 9,
    "start_time": "2025-03-26T01:32:47.450Z"
   },
   {
    "duration": 13,
    "start_time": "2025-03-26T01:32:47.461Z"
   },
   {
    "duration": 465,
    "start_time": "2025-03-26T01:32:47.476Z"
   },
   {
    "duration": 208,
    "start_time": "2025-03-26T01:32:47.944Z"
   },
   {
    "duration": 142,
    "start_time": "2025-03-26T01:32:48.153Z"
   },
   {
    "duration": 43,
    "start_time": "2025-03-26T01:32:48.297Z"
   },
   {
    "duration": 35,
    "start_time": "2025-03-26T01:36:19.721Z"
   }
  ],
  "kernelspec": {
   "display_name": "Python 3 (ipykernel)",
   "language": "python",
   "name": "python3"
  },
  "language_info": {
   "codemirror_mode": {
    "name": "ipython",
    "version": 3
   },
   "file_extension": ".py",
   "mimetype": "text/x-python",
   "name": "python",
   "nbconvert_exporter": "python",
   "pygments_lexer": "ipython3",
   "version": "3.9.19"
  },
  "toc": {
   "base_numbering": 1,
   "nav_menu": {},
   "number_sections": true,
   "sideBar": true,
   "skip_h1_title": true,
   "title_cell": "Table of Contents",
   "title_sidebar": "Contents",
   "toc_cell": false,
   "toc_position": {},
   "toc_section_display": true,
   "toc_window_display": false
  }
 },
 "nbformat": 4,
 "nbformat_minor": 2
}
